{
 "cells": [
  {
   "cell_type": "markdown",
   "id": "e5d2fae1",
   "metadata": {},
   "source": [
    "# Problem 5"
   ]
  },
  {
   "cell_type": "markdown",
   "id": "70229ded",
   "metadata": {},
   "source": [
    "### Lorenzo\n",
    "My main takeaway from this course was that a useful model is not a perfect model. I had previously held the belief that the best model would be one that could perfectly recreate real life. I thought that, as computing power became great enough, we could model occurances in their entirety as many times over as we like to create perfect models. But, as I learned in this course, that would entirely defeat the purpose of the model and make it no more usable than simply measuring things in real life. Like a map which covers the whole nation it is more useful to have a less faithful yet more manageable model.  \n",
    "A secondary consequence of this takeaway is that I am very glad so much is normally distributed, and that people smarter than I have already made the tools necessary for that modeling among many others. Absolute praise for the people who work on tools like stan, tensorflow, keras, etc."
   ]
  },
  {
   "cell_type": "markdown",
   "id": "c72f7b95",
   "metadata": {},
   "source": [
    "### Siddhant\n",
    "One of the biggest things I took away from this course is that cognitive modeling isn’t really about building perfect simulations of the mind. It’s about building useful ones. At the start, I thought the goal was to replicate human behavior as precisely as possible, like some super-powered machine learning project. But over time, I realized that the real challenge is in deciding what to include and what to leave out. A good model isn’t about capturing every detail, it’s about capturing the right ones.\n",
    "I also came to appreciate how much modeling is tied to theory. It’s not just data in, prediction out. Every choice we make—what variables to use, what assumptions to bake in—reflects how we think the mind actually works. That made the process feel a lot more thoughtful and even creative than I expected.\n",
    "Honestly, it gave me a deeper appreciation for the people who build the tools we rely on. Pyro, Stan, TensorFlow—all of it. They make it possible for us to experiment, explore, and try to make sense of something as complex as human thought."
   ]
  }
 ],
 "metadata": {
  "kernelspec": {
   "display_name": "cognitive",
   "language": "python",
   "name": "python3"
  },
  "language_info": {
   "name": "python",
   "version": "3.12.0"
  }
 },
 "nbformat": 4,
 "nbformat_minor": 5
}
