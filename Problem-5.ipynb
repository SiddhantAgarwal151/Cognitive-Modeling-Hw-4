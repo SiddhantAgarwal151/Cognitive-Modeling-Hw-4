{
 "cells": [
  {
   "cell_type": "markdown",
   "id": "e5d2fae1",
   "metadata": {},
   "source": [
    "# Problem 5"
   ]
  },
  {
   "cell_type": "markdown",
   "id": "70229ded",
   "metadata": {},
   "source": [
    "### Lorenzo\n",
    "My main takeaway from this course was that a useful model is not a perfect model. I had previously held the belief that the best model would be one that could perfectly recreate real life. I thought that, as computing power became great enough, we could model occurances in their entirety as many times over as we like to create perfect models. But, as I learned in this course, that would entirely defeat the purpose of the model and make it no more usable than simply measuring things in real life. Like a map which covers the whole nation it is more useful to have a less faithful yet more manageable model.  \n",
    "A secondary consequence of this takeaway is that I am very glad so much is normally distributed, and that people smarter than I have already made the tools necessary for that modeling among many others. Absolute praise for the people who work on tools like stan, tensorflow, keras, etc."
   ]
  }
 ],
 "metadata": {
  "kernelspec": {
   "display_name": "cognitive",
   "language": "python",
   "name": "python3"
  },
  "language_info": {
   "name": "python",
   "version": "3.12.0"
  }
 },
 "nbformat": 4,
 "nbformat_minor": 5
}
