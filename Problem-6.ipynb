{
 "cells": [
  {
   "cell_type": "markdown",
   "id": "4021a281",
   "metadata": {},
   "source": [
    "# Problem 6"
   ]
  },
  {
   "cell_type": "markdown",
   "id": "aee6947e",
   "metadata": {},
   "source": [
    "We are considering investigating different implementations of making a convolution neural network more robust against noise.  \n",
    "The data would be the fashion MNIST image data set from keras.   \n",
    "We would use a CNN to classify the clothing type and try different ways to improve its classification of noisy input.  \n",
    "The parameters would be different depending on the different methods of making the network robust but in the case of adding noise to the training data one parameter may be the amount of noise to add and another could be how much of the training data to add noise to.  \n",
    "The existing strategies include adding noise to the input, running the input through denoising algorithms, or, in cases where information about the noise may be known, passing the possible noise map as another input to the network.  \n",
    "For our project we would focus on different methods of adding noise to the input and compare their performance via psychometric curves of the model's accuracy against increasingly noisy input.\n"
   ]
  }
 ],
 "metadata": {
  "language_info": {
   "name": "python"
  }
 },
 "nbformat": 4,
 "nbformat_minor": 5
}
