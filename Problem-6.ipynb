{
 "cells": [
  {
   "cell_type": "markdown",
   "id": "4021a281",
   "metadata": {},
   "source": [
    "# Problem 6"
   ]
  },
  {
   "cell_type": "markdown",
   "id": "aee6947e",
   "metadata": {},
   "source": [
    "# Investigating CNN Robustness Against Noise\n",
    "\n",
    "## Problem & Data\n",
    "This project would explore how to make CNNs more robust against noisy inputs using the Fashion MNIST dataset. The task is to classify clothing items even when images are degraded by various types of noise.\n",
    "\n",
    "## Approach\n",
    "The plan would involve:\n",
    "- Training baseline CNNs on clean data\n",
    "- Implementing different noise robustness strategies (primarily data augmentation with noise)\n",
    "- Testing models on increasingly noisy images\n",
    "- Comparing performance using accuracy metrics\n",
    "\n",
    "## Methods to Compare\n",
    "- Adding different noise types during training\n",
    "- Varying noise intensities and application patterns\n",
    "- Testing on various noise levels not seen during training\n",
    "\n",
    "## Evaluation\n",
    "Results would be analyzed by:\n",
    "- Creating psychometric curves (accuracy vs. noise level)\n",
    "- Identifying which approaches provide the best robustness\n",
    "- Examining performance trade-offs between clean and noisy conditions\n",
    "\n",
    "This project would provide practical insights into designing neural networks that perform reliably in real-world conditions where input quality may vary."
   ]
  }
 ],
 "metadata": {
  "language_info": {
   "name": "python"
  }
 },
 "nbformat": 4,
 "nbformat_minor": 5
}
